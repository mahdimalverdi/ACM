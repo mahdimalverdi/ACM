{
  "nbformat": 4,
  "nbformat_minor": 0,
  "metadata": {
    "colab": {
      "name": "Exam2.ipynb",
      "provenance": [],
      "authorship_tag": "ABX9TyPqrx+vubN2AnOlCfF3v4+a",
      "include_colab_link": true
    },
    "kernelspec": {
      "name": "python3",
      "display_name": "Python 3"
    },
    "language_info": {
      "name": "python"
    }
  },
  "cells": [
    {
      "cell_type": "markdown",
      "metadata": {
        "id": "view-in-github",
        "colab_type": "text"
      },
      "source": [
        "<a href=\"https://colab.research.google.com/github/mahdimalverdi/ACM/blob/master/Exam2.ipynb\" target=\"_parent\"><img src=\"https://colab.research.google.com/assets/colab-badge.svg\" alt=\"Open In Colab\"/></a>"
      ]
    },
    {
      "cell_type": "code",
      "metadata": {
        "id": "VVXDIIl7inKE"
      },
      "source": [
        "!apt-get install openjdk-8-jdk-headless -qq > /dev/null\n",
        "!wget -q https://www-us.apache.org/dist/spark/spark-3.1.2/spark-3.1.2-bin-hadoop3.2.tgz\n",
        "!tar xf spark-3.1.2-bin-hadoop3.2.tgz\n",
        "!pip install -q findspark"
      ],
      "execution_count": 1,
      "outputs": []
    },
    {
      "cell_type": "code",
      "metadata": {
        "id": "7BGjlPdriouo"
      },
      "source": [
        "import os\n",
        "os.environ[\"JAVA_HOME\"] = \"/usr/lib/jvm/java-8-openjdk-amd64\"\n",
        "os.environ[\"SPARK_HOME\"] = \"/content/spark-3.1.2-bin-hadoop3.2\""
      ],
      "execution_count": 2,
      "outputs": []
    },
    {
      "cell_type": "code",
      "metadata": {
        "id": "6cZHde8QiqBc"
      },
      "source": [
        "import findspark\n",
        "findspark.init()"
      ],
      "execution_count": 3,
      "outputs": []
    },
    {
      "cell_type": "code",
      "metadata": {
        "id": "KqIlZdfziqGF"
      },
      "source": [
        "import pyspark\n",
        "from pyspark.sql import SparkSession\n",
        "from pyspark.sql.types import StructType,StructField, StringType, IntegerType, DoubleType\n",
        "from pyspark.sql.types import ArrayType, DoubleType, BooleanType\n",
        "from pyspark.sql.functions import col,array_contains\n",
        "spark = SparkSession.builder.master(\"local[1]\").appName(\"hw6\").getOrCreate()"
      ],
      "execution_count": 4,
      "outputs": []
    },
    {
      "cell_type": "code",
      "metadata": {
        "colab": {
          "base_uri": "https://localhost:8080/"
        },
        "id": "LwpOyHV4izQ2",
        "outputId": "61d3f984-322c-404e-a51c-0f006e4115ed"
      },
      "source": [
        "!wget https://raw.githubusercontent.com/mahdimalverdi/BigData-Exam/main/dataset2.csv"
      ],
      "execution_count": 5,
      "outputs": [
        {
          "output_type": "stream",
          "text": [
            "--2021-06-22 13:02:35--  https://raw.githubusercontent.com/mahdimalverdi/BigData-Exam/main/dataset2.csv\n",
            "Resolving raw.githubusercontent.com (raw.githubusercontent.com)... 185.199.108.133, 185.199.109.133, 185.199.110.133, ...\n",
            "Connecting to raw.githubusercontent.com (raw.githubusercontent.com)|185.199.108.133|:443... connected.\n",
            "HTTP request sent, awaiting response... 200 OK\n",
            "Length: 18696924 (18M) [text/plain]\n",
            "Saving to: ‘dataset2.csv’\n",
            "\n",
            "dataset2.csv        100%[===================>]  17.83M  57.5MB/s    in 0.3s    \n",
            "\n",
            "2021-06-22 13:02:36 (57.5 MB/s) - ‘dataset2.csv’ saved [18696924/18696924]\n",
            "\n"
          ],
          "name": "stdout"
        }
      ]
    },
    {
      "cell_type": "code",
      "metadata": {
        "colab": {
          "base_uri": "https://localhost:8080/"
        },
        "id": "dJQC7Htti5p6",
        "outputId": "40890b4a-1926-4feb-a243-298baa9a818c"
      },
      "source": [
        "train_dataset = spark.read.csv(\"dataset2.csv\",inferSchema=True, header =True)\n",
        "train_dataset.printSchema()"
      ],
      "execution_count": 6,
      "outputs": [
        {
          "output_type": "stream",
          "text": [
            "root\n",
            " |-- action: string (nullable = true)\n",
            " |-- created_at: double (nullable = true)\n",
            " |-- source_event_id: string (nullable = true)\n",
            " |-- device_id: string (nullable = true)\n",
            " |-- post_page_offset: integer (nullable = true)\n",
            " |-- tokens: string (nullable = true)\n",
            " |-- post_index_in_post_list: integer (nullable = true)\n",
            " |-- post_token: string (nullable = true)\n",
            "\n"
          ],
          "name": "stdout"
        }
      ]
    },
    {
      "cell_type": "code",
      "metadata": {
        "id": "im7h6WvOjBEK"
      },
      "source": [
        "import re\n",
        "\n",
        "def strip_margin(text):\n",
        "    nomargin = re.sub('\\n[ \\t]*\\|', ' ', text)\n",
        "    trimmed = re.sub('\\s+', ' ', nomargin)\n",
        "    return trimmed"
      ],
      "execution_count": 7,
      "outputs": []
    },
    {
      "cell_type": "code",
      "metadata": {
        "colab": {
          "base_uri": "https://localhost:8080/"
        },
        "id": "Vn9r4wotk4Nn",
        "outputId": "d5bcbd4f-d7e0-4135-f843-51cb5b57887a"
      },
      "source": [
        "train_dataset.createOrReplaceTempView(\"df\")\n",
        "d = spark.sql(strip_margin(\"select (select count(*) from (SELECT count(*) FROM df group by source_event_id having count(*) > 9))/ count(*) from (SELECT count(*), source_event_id FROM df group by source_event_id)\"))\n",
        "d.show()"
      ],
      "execution_count": 8,
      "outputs": [
        {
          "output_type": "stream",
          "text": [
            "+-------------------------------------------------------------+\n",
            "|(CAST(scalarsubquery() AS DOUBLE) / CAST(count(1) AS DOUBLE))|\n",
            "+-------------------------------------------------------------+\n",
            "|                                           0.2271264689423615|\n",
            "+-------------------------------------------------------------+\n",
            "\n"
          ],
          "name": "stdout"
        }
      ]
    },
    {
      "cell_type": "code",
      "metadata": {
        "colab": {
          "base_uri": "https://localhost:8080/"
        },
        "id": "2SNCMDvuls2y",
        "outputId": "1fabe031-56e1-40c2-981a-33e157e5c978"
      },
      "source": [
        "train_dataset.createOrReplaceTempView(\"df\")\n",
        "d = spark.sql(strip_margin(\"select (select count(*) from (SELECT distinct source_event_id from df where source_event_id not in (SELECT source_event_id FROM df where action = 'click_post' group by source_event_id))) / count(*) from (SELECT count(*), source_event_id FROM df group by source_event_id)\"))\n",
        "d.show()"
      ],
      "execution_count": 9,
      "outputs": [
        {
          "output_type": "stream",
          "text": [
            "+-------------------------------------------------------------+\n",
            "|(CAST(scalarsubquery() AS DOUBLE) / CAST(count(1) AS DOUBLE))|\n",
            "+-------------------------------------------------------------+\n",
            "|                                          0.24314493564633463|\n",
            "+-------------------------------------------------------------+\n",
            "\n"
          ],
          "name": "stdout"
        }
      ]
    },
    {
      "cell_type": "code",
      "metadata": {
        "colab": {
          "base_uri": "https://localhost:8080/"
        },
        "id": "hkENhrQdmnqv",
        "outputId": "49f75561-b169-4e0a-cbab-a722f529933c"
      },
      "source": [
        "train_dataset.createOrReplaceTempView(\"df\")\n",
        "d = spark.sql(strip_margin(\"select df1.source_event_id, df1.count / df2.count * 100 from (SELECT count(*) as count , source_event_id FROM df   where action = 'click_post' group by source_event_id)as df1 inner join (SELECT count(*) as count , source_event_id FROM df group by source_event_id) as df2 on df2.source_event_id = df1.source_event_id\"))\n",
        "d.show()"
      ],
      "execution_count": 10,
      "outputs": [
        {
          "output_type": "stream",
          "text": [
            "+--------------------+-----------------------------------------------------------------------+\n",
            "|     source_event_id|((CAST(count AS DOUBLE) / CAST(count AS DOUBLE)) * CAST(100 AS DOUBLE))|\n",
            "+--------------------+-----------------------------------------------------------------------+\n",
            "|98719974-7821-455...|                                                                  100.0|\n",
            "|dab24ff1-c7ed-4dd...|                                                                  100.0|\n",
            "|9460ceb5-d423-498...|                                                                  100.0|\n",
            "|388e35f9-8262-47a...|                                                                  100.0|\n",
            "|87f449de-dd59-4ea...|                                                      70.58823529411765|\n",
            "|690ca150-5b6d-4aa...|                                                      74.28571428571429|\n",
            "|0eed1d54-2715-448...|                                                                  100.0|\n",
            "|5ee25cf4-a97a-457...|                                                                   75.0|\n",
            "|9f63595b-331c-494...|                                                                  100.0|\n",
            "|9ba63c1c-9cb9-48d...|                                                      63.63636363636363|\n",
            "|ebc8b59b-61fa-40a...|                                                                  100.0|\n",
            "|249198b4-4cbb-4c3...|                                                      57.14285714285714|\n",
            "|67c61e88-1562-4c6...|                                                                  100.0|\n",
            "|70d4b496-f9ee-4ac...|                                                                  100.0|\n",
            "|f88ae8bd-edb9-471...|                                                                   25.0|\n",
            "|5c5e6964-3472-4d0...|                                                                   80.0|\n",
            "|3245d81c-c00d-41f...|                                                                  100.0|\n",
            "|63fa4517-1b47-484...|                                                                  100.0|\n",
            "|bfa0ce2a-6c9b-438...|                                                                  100.0|\n",
            "|0429335f-b13b-4c5...|                                                                   60.0|\n",
            "+--------------------+-----------------------------------------------------------------------+\n",
            "only showing top 20 rows\n",
            "\n"
          ],
          "name": "stdout"
        }
      ]
    },
    {
      "cell_type": "code",
      "metadata": {
        "colab": {
          "base_uri": "https://localhost:8080/"
        },
        "id": "9BMdCYu7pt2e",
        "outputId": "c5432f3b-6e0c-4ed7-b68f-c901dead23c3"
      },
      "source": [
        "train_dataset.createOrReplaceTempView(\"df\")\n",
        "d = spark.sql(strip_margin(\"(SELECT min(post_index_in_post_list)  , source_event_id FROM df   where action = 'click_post' group by source_event_id)\"))\n",
        "d.show()"
      ],
      "execution_count": 11,
      "outputs": [
        {
          "output_type": "stream",
          "text": [
            "+----------------------------+--------------------+\n",
            "|min(post_index_in_post_list)|     source_event_id|\n",
            "+----------------------------+--------------------+\n",
            "|                           8|98719974-7821-455...|\n",
            "|                           3|dab24ff1-c7ed-4dd...|\n",
            "|                           1|9460ceb5-d423-498...|\n",
            "|                          41|388e35f9-8262-47a...|\n",
            "|                           5|87f449de-dd59-4ea...|\n",
            "|                          14|690ca150-5b6d-4aa...|\n",
            "|                           1|0eed1d54-2715-448...|\n",
            "|                          37|5ee25cf4-a97a-457...|\n",
            "|                           1|9f63595b-331c-494...|\n",
            "|                        1749|9ba63c1c-9cb9-48d...|\n",
            "|                           8|ebc8b59b-61fa-40a...|\n",
            "|                          26|249198b4-4cbb-4c3...|\n",
            "|                         147|67c61e88-1562-4c6...|\n",
            "|                          30|70d4b496-f9ee-4ac...|\n",
            "|                          45|f88ae8bd-edb9-471...|\n",
            "|                           1|5c5e6964-3472-4d0...|\n",
            "|                           1|3245d81c-c00d-41f...|\n",
            "|                           2|63fa4517-1b47-484...|\n",
            "|                           5|bfa0ce2a-6c9b-438...|\n",
            "|                           3|0429335f-b13b-4c5...|\n",
            "+----------------------------+--------------------+\n",
            "only showing top 20 rows\n",
            "\n"
          ],
          "name": "stdout"
        }
      ]
    },
    {
      "cell_type": "code",
      "metadata": {
        "colab": {
          "base_uri": "https://localhost:8080/",
          "height": 458
        },
        "id": "iuGxUmB2oOQs",
        "outputId": "4064690b-91c1-486c-ff9e-fc27edea6be2"
      },
      "source": [
        "train_dataset.createOrReplaceTempView(\"df\")\n",
        "d = spark.sql(strip_margin(\"\"))\n",
        "d.show()\n"
      ],
      "execution_count": 12,
      "outputs": [
        {
          "output_type": "error",
          "ename": "ParseException",
          "evalue": "ignored",
          "traceback": [
            "\u001b[0;31m---------------------------------------------------------------------------\u001b[0m",
            "\u001b[0;31mParseException\u001b[0m                            Traceback (most recent call last)",
            "\u001b[0;32m<ipython-input-12-bb860b8f4800>\u001b[0m in \u001b[0;36m<module>\u001b[0;34m()\u001b[0m\n\u001b[1;32m      1\u001b[0m \u001b[0mtrain_dataset\u001b[0m\u001b[0;34m.\u001b[0m\u001b[0mcreateOrReplaceTempView\u001b[0m\u001b[0;34m(\u001b[0m\u001b[0;34m\"df\"\u001b[0m\u001b[0;34m)\u001b[0m\u001b[0;34m\u001b[0m\u001b[0;34m\u001b[0m\u001b[0m\n\u001b[0;32m----> 2\u001b[0;31m \u001b[0md\u001b[0m \u001b[0;34m=\u001b[0m \u001b[0mspark\u001b[0m\u001b[0;34m.\u001b[0m\u001b[0msql\u001b[0m\u001b[0;34m(\u001b[0m\u001b[0mstrip_margin\u001b[0m\u001b[0;34m(\u001b[0m\u001b[0;34m\"\"\u001b[0m\u001b[0;34m)\u001b[0m\u001b[0;34m)\u001b[0m\u001b[0;34m\u001b[0m\u001b[0;34m\u001b[0m\u001b[0m\n\u001b[0m\u001b[1;32m      3\u001b[0m \u001b[0md\u001b[0m\u001b[0;34m.\u001b[0m\u001b[0mshow\u001b[0m\u001b[0;34m(\u001b[0m\u001b[0;34m)\u001b[0m\u001b[0;34m\u001b[0m\u001b[0;34m\u001b[0m\u001b[0m\n",
            "\u001b[0;32m/content/spark-3.1.2-bin-hadoop3.2/python/pyspark/sql/session.py\u001b[0m in \u001b[0;36msql\u001b[0;34m(self, sqlQuery)\u001b[0m\n\u001b[1;32m    721\u001b[0m         \u001b[0;34m[\u001b[0m\u001b[0mRow\u001b[0m\u001b[0;34m(\u001b[0m\u001b[0mf1\u001b[0m\u001b[0;34m=\u001b[0m\u001b[0;36m1\u001b[0m\u001b[0;34m,\u001b[0m \u001b[0mf2\u001b[0m\u001b[0;34m=\u001b[0m\u001b[0;34m'row1'\u001b[0m\u001b[0;34m)\u001b[0m\u001b[0;34m,\u001b[0m \u001b[0mRow\u001b[0m\u001b[0;34m(\u001b[0m\u001b[0mf1\u001b[0m\u001b[0;34m=\u001b[0m\u001b[0;36m2\u001b[0m\u001b[0;34m,\u001b[0m \u001b[0mf2\u001b[0m\u001b[0;34m=\u001b[0m\u001b[0;34m'row2'\u001b[0m\u001b[0;34m)\u001b[0m\u001b[0;34m,\u001b[0m \u001b[0mRow\u001b[0m\u001b[0;34m(\u001b[0m\u001b[0mf1\u001b[0m\u001b[0;34m=\u001b[0m\u001b[0;36m3\u001b[0m\u001b[0;34m,\u001b[0m \u001b[0mf2\u001b[0m\u001b[0;34m=\u001b[0m\u001b[0;34m'row3'\u001b[0m\u001b[0;34m)\u001b[0m\u001b[0;34m]\u001b[0m\u001b[0;34m\u001b[0m\u001b[0;34m\u001b[0m\u001b[0m\n\u001b[1;32m    722\u001b[0m         \"\"\"\n\u001b[0;32m--> 723\u001b[0;31m         \u001b[0;32mreturn\u001b[0m \u001b[0mDataFrame\u001b[0m\u001b[0;34m(\u001b[0m\u001b[0mself\u001b[0m\u001b[0;34m.\u001b[0m\u001b[0m_jsparkSession\u001b[0m\u001b[0;34m.\u001b[0m\u001b[0msql\u001b[0m\u001b[0;34m(\u001b[0m\u001b[0msqlQuery\u001b[0m\u001b[0;34m)\u001b[0m\u001b[0;34m,\u001b[0m \u001b[0mself\u001b[0m\u001b[0;34m.\u001b[0m\u001b[0m_wrapped\u001b[0m\u001b[0;34m)\u001b[0m\u001b[0;34m\u001b[0m\u001b[0;34m\u001b[0m\u001b[0m\n\u001b[0m\u001b[1;32m    724\u001b[0m \u001b[0;34m\u001b[0m\u001b[0m\n\u001b[1;32m    725\u001b[0m     \u001b[0;32mdef\u001b[0m \u001b[0mtable\u001b[0m\u001b[0;34m(\u001b[0m\u001b[0mself\u001b[0m\u001b[0;34m,\u001b[0m \u001b[0mtableName\u001b[0m\u001b[0;34m)\u001b[0m\u001b[0;34m:\u001b[0m\u001b[0;34m\u001b[0m\u001b[0;34m\u001b[0m\u001b[0m\n",
            "\u001b[0;32m/content/spark-3.1.2-bin-hadoop3.2/python/lib/py4j-0.10.9-src.zip/py4j/java_gateway.py\u001b[0m in \u001b[0;36m__call__\u001b[0;34m(self, *args)\u001b[0m\n\u001b[1;32m   1303\u001b[0m         \u001b[0manswer\u001b[0m \u001b[0;34m=\u001b[0m \u001b[0mself\u001b[0m\u001b[0;34m.\u001b[0m\u001b[0mgateway_client\u001b[0m\u001b[0;34m.\u001b[0m\u001b[0msend_command\u001b[0m\u001b[0;34m(\u001b[0m\u001b[0mcommand\u001b[0m\u001b[0;34m)\u001b[0m\u001b[0;34m\u001b[0m\u001b[0;34m\u001b[0m\u001b[0m\n\u001b[1;32m   1304\u001b[0m         return_value = get_return_value(\n\u001b[0;32m-> 1305\u001b[0;31m             answer, self.gateway_client, self.target_id, self.name)\n\u001b[0m\u001b[1;32m   1306\u001b[0m \u001b[0;34m\u001b[0m\u001b[0m\n\u001b[1;32m   1307\u001b[0m         \u001b[0;32mfor\u001b[0m \u001b[0mtemp_arg\u001b[0m \u001b[0;32min\u001b[0m \u001b[0mtemp_args\u001b[0m\u001b[0;34m:\u001b[0m\u001b[0;34m\u001b[0m\u001b[0;34m\u001b[0m\u001b[0m\n",
            "\u001b[0;32m/content/spark-3.1.2-bin-hadoop3.2/python/pyspark/sql/utils.py\u001b[0m in \u001b[0;36mdeco\u001b[0;34m(*a, **kw)\u001b[0m\n\u001b[1;32m    115\u001b[0m                 \u001b[0;31m# Hide where the exception came from that shows a non-Pythonic\u001b[0m\u001b[0;34m\u001b[0m\u001b[0;34m\u001b[0m\u001b[0;34m\u001b[0m\u001b[0m\n\u001b[1;32m    116\u001b[0m                 \u001b[0;31m# JVM exception message.\u001b[0m\u001b[0;34m\u001b[0m\u001b[0;34m\u001b[0m\u001b[0;34m\u001b[0m\u001b[0m\n\u001b[0;32m--> 117\u001b[0;31m                 \u001b[0;32mraise\u001b[0m \u001b[0mconverted\u001b[0m \u001b[0;32mfrom\u001b[0m \u001b[0;32mNone\u001b[0m\u001b[0;34m\u001b[0m\u001b[0;34m\u001b[0m\u001b[0m\n\u001b[0m\u001b[1;32m    118\u001b[0m             \u001b[0;32melse\u001b[0m\u001b[0;34m:\u001b[0m\u001b[0;34m\u001b[0m\u001b[0;34m\u001b[0m\u001b[0m\n\u001b[1;32m    119\u001b[0m                 \u001b[0;32mraise\u001b[0m\u001b[0;34m\u001b[0m\u001b[0;34m\u001b[0m\u001b[0m\n",
            "\u001b[0;31mParseException\u001b[0m: \nmismatched input '<EOF>' expecting {'(', 'ADD', 'ALTER', 'ANALYZE', 'CACHE', 'CLEAR', 'COMMENT', 'COMMIT', 'CREATE', 'DELETE', 'DESC', 'DESCRIBE', 'DFS', 'DROP', 'EXPLAIN', 'EXPORT', 'FROM', 'GRANT', 'IMPORT', 'INSERT', 'LIST', 'LOAD', 'LOCK', 'MAP', 'MERGE', 'MSCK', 'REDUCE', 'REFRESH', 'REPLACE', 'RESET', 'REVOKE', 'ROLLBACK', 'SELECT', 'SET', 'SHOW', 'START', 'TABLE', 'TRUNCATE', 'UNCACHE', 'UNLOCK', 'UPDATE', 'USE', 'VALUES', 'WITH'}(line 1, pos 0)\n\n== SQL ==\n\n^^^\n"
          ]
        }
      ]
    },
    {
      "cell_type": "code",
      "metadata": {
        "id": "hm-atzm8nxDh"
      },
      "source": [
        ""
      ],
      "execution_count": null,
      "outputs": []
    },
    {
      "cell_type": "code",
      "metadata": {
        "colab": {
          "base_uri": "https://localhost:8080/"
        },
        "id": "SYdkF0M1kMBw",
        "outputId": "555083e0-df74-48af-84f4-983d9e7ec4be"
      },
      "source": [
        "d.show()"
      ],
      "execution_count": null,
      "outputs": [
        {
          "output_type": "stream",
          "text": [
            "+-------------------------------------------------------------+\n",
            "|(CAST(scalarsubquery() AS DOUBLE) / CAST(count(1) AS DOUBLE))|\n",
            "+-------------------------------------------------------------+\n",
            "|                                           0.2271264689423615|\n",
            "+-------------------------------------------------------------+\n",
            "\n"
          ],
          "name": "stdout"
        }
      ]
    }
  ]
}